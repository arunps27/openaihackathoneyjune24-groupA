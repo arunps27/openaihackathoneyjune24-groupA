{
 "cells": [
  {
   "cell_type": "markdown",
   "id": "0fd15b2d-e0f8-4c6b-821f-bd09a00fe323",
   "metadata": {},
   "source": [
    "# Cryptocurrency Price Prediction Model\r\n",
    "\r\n",
    "## Problem Statement\r\n",
    "In this project, we aim to build a predictive model that forecasts the future closing price of a cryptocurrency based on its historical price data. The dataset contains various features such as the highest price (`High`), lowest price (`Low`), opening price (`Open`), closing price (`Close`), volume of transactions (`Volume`), and market capitalization (`Marketcap`) for each day. Our objective is to apply machine learning regression techniques to estimate the closing price of the cryptocurrency for the next day, given its historical performance.\r\n",
    "\r\n",
    "## Outcome\r\n",
    "The outcome of this project will be a regression model that predicts the continuous value of the cryptocurrency's closing price. The model's performance will be evaluated using metrics such as Mean Squared Error (MSE) and R-squared (R2) to quantify its accuracy and predictive power.\r\n",
    "\r\n",
    "## Approach\r\n",
    "We will follow these steps to develop our predictive model:\r\n",
    "1. Load and preprocess the data, ensuring it is clean and suitable for modeling.\r\n",
    "2. Perform exploratory data analysis to understand the trends and patterns in the data.\r\n",
    "3. Engineer relevant features that could improve the model's predictions.\r\n",
    "4. Split the data into training and testing sets to validate the model's performance.\r\n",
    "5. Train several regression models and compare their results to select the best performer.\r\n",
    "6. Evaluate the chosen model using appropriate metrics and validate it to ensure its generalizability.\r\n",
    "7. Use the final model to make predictions on new, unseen data.\r\n",
    "\r\n",
    "By the end of this project, we will have a robust model capable of predicting cryptocurrency prices, which could be a valuable tool for investors and traders looking to make informed decisions in the volatile crypto market.\r\n",
    "ew, unseen data.le crypto market.\r\n"
   ]
  },
  {
   "cell_type": "code",
   "execution_count": 17,
   "id": "46eea96b-03ce-4b49-b3a0-1b1d2717c74f",
   "metadata": {},
   "outputs": [],
   "source": [
    "import pandas as pd \n",
    "import os \n",
    "from sklearn.preprocessing import StandardScaler\n",
    "from sklearn.model_selection import train_test_split\n",
    "from sklearn.linear_model import LinearRegression\n",
    "from sklearn.ensemble import RandomForestRegressor\n",
    "from sklearn.svm import SVR \n",
    "from sklearn.metrics import mean_squared_error, r2_score"
   ]
  },
  {
   "cell_type": "code",
   "execution_count": 18,
   "id": "8a404c58-fe26-468d-94ad-5a2bdffe905d",
   "metadata": {},
   "outputs": [],
   "source": [
    "# Assuming all CSV files are in the 'data' directory\n",
    "data_dir = 'C:\\\\Users\\\\Subhash.Singh\\\\Documents\\\\DataScienceCourse\\\\Hackthon\\\\Data'\n",
    "all_files = [os.path.join(data_dir, file) for file in os.listdir(data_dir) if file.endswith('.csv')]\n",
    "\n",
    "# Load and combine the CSV files\n",
    "df_list = [pd.read_csv(file) for file in all_files]\n",
    "combined_df = pd.concat(df_list, ignore_index=True)"
   ]
  },
  {
   "cell_type": "code",
   "execution_count": 19,
   "id": "61c8d47d-e79e-4dea-a6be-081bcb20b238",
   "metadata": {},
   "outputs": [
    {
     "name": "stdout",
     "output_type": "stream",
     "text": [
      "0\n"
     ]
    }
   ],
   "source": [
    "# Check for duplicates\n",
    "print(combined_df.duplicated().sum())\n",
    "\n",
    "# Drop duplicates if necessary\n",
    "combined_df = combined_df.drop_duplicates()"
   ]
  },
  {
   "cell_type": "code",
   "execution_count": 4,
   "id": "28cf624a-54d1-4081-8398-983ee55514f1",
   "metadata": {},
   "outputs": [
    {
     "name": "stdout",
     "output_type": "stream",
     "text": [
      "<class 'pandas.core.frame.DataFrame'>\n",
      "RangeIndex: 37082 entries, 0 to 37081\n",
      "Data columns (total 10 columns):\n",
      " #   Column     Non-Null Count  Dtype  \n",
      "---  ------     --------------  -----  \n",
      " 0   SNo        37082 non-null  int64  \n",
      " 1   Name       37082 non-null  object \n",
      " 2   Symbol     37082 non-null  object \n",
      " 3   Date       37082 non-null  object \n",
      " 4   High       37082 non-null  float64\n",
      " 5   Low        37082 non-null  float64\n",
      " 6   Open       37082 non-null  float64\n",
      " 7   Close      37082 non-null  float64\n",
      " 8   Volume     37082 non-null  float64\n",
      " 9   Marketcap  37082 non-null  float64\n",
      "dtypes: float64(6), int64(1), object(3)\n",
      "memory usage: 2.8+ MB\n"
     ]
    },
    {
     "data": {
      "text/html": [
       "<div>\n",
       "<style scoped>\n",
       "    .dataframe tbody tr th:only-of-type {\n",
       "        vertical-align: middle;\n",
       "    }\n",
       "\n",
       "    .dataframe tbody tr th {\n",
       "        vertical-align: top;\n",
       "    }\n",
       "\n",
       "    .dataframe thead th {\n",
       "        text-align: right;\n",
       "    }\n",
       "</style>\n",
       "<table border=\"1\" class=\"dataframe\">\n",
       "  <thead>\n",
       "    <tr style=\"text-align: right;\">\n",
       "      <th></th>\n",
       "      <th>SNo</th>\n",
       "      <th>Name</th>\n",
       "      <th>Symbol</th>\n",
       "      <th>Date</th>\n",
       "      <th>High</th>\n",
       "      <th>Low</th>\n",
       "      <th>Open</th>\n",
       "      <th>Close</th>\n",
       "      <th>Volume</th>\n",
       "      <th>Marketcap</th>\n",
       "    </tr>\n",
       "  </thead>\n",
       "  <tbody>\n",
       "    <tr>\n",
       "      <th>0</th>\n",
       "      <td>1</td>\n",
       "      <td>Aave</td>\n",
       "      <td>AAVE</td>\n",
       "      <td>2020-10-05 23:59:59</td>\n",
       "      <td>55.112358</td>\n",
       "      <td>49.787900</td>\n",
       "      <td>52.675035</td>\n",
       "      <td>53.219243</td>\n",
       "      <td>0.000000e+00</td>\n",
       "      <td>8.912813e+07</td>\n",
       "    </tr>\n",
       "    <tr>\n",
       "      <th>1</th>\n",
       "      <td>2</td>\n",
       "      <td>Aave</td>\n",
       "      <td>AAVE</td>\n",
       "      <td>2020-10-06 23:59:59</td>\n",
       "      <td>53.402270</td>\n",
       "      <td>40.734578</td>\n",
       "      <td>53.291969</td>\n",
       "      <td>42.401599</td>\n",
       "      <td>5.830915e+05</td>\n",
       "      <td>7.101144e+07</td>\n",
       "    </tr>\n",
       "    <tr>\n",
       "      <th>2</th>\n",
       "      <td>3</td>\n",
       "      <td>Aave</td>\n",
       "      <td>AAVE</td>\n",
       "      <td>2020-10-07 23:59:59</td>\n",
       "      <td>42.408314</td>\n",
       "      <td>35.970690</td>\n",
       "      <td>42.399947</td>\n",
       "      <td>40.083976</td>\n",
       "      <td>6.828342e+05</td>\n",
       "      <td>6.713004e+07</td>\n",
       "    </tr>\n",
       "    <tr>\n",
       "      <th>3</th>\n",
       "      <td>4</td>\n",
       "      <td>Aave</td>\n",
       "      <td>AAVE</td>\n",
       "      <td>2020-10-08 23:59:59</td>\n",
       "      <td>44.902511</td>\n",
       "      <td>36.696057</td>\n",
       "      <td>39.885262</td>\n",
       "      <td>43.764463</td>\n",
       "      <td>1.658817e+06</td>\n",
       "      <td>2.202651e+08</td>\n",
       "    </tr>\n",
       "    <tr>\n",
       "      <th>4</th>\n",
       "      <td>5</td>\n",
       "      <td>Aave</td>\n",
       "      <td>AAVE</td>\n",
       "      <td>2020-10-09 23:59:59</td>\n",
       "      <td>47.569533</td>\n",
       "      <td>43.291776</td>\n",
       "      <td>43.764463</td>\n",
       "      <td>46.817744</td>\n",
       "      <td>8.155377e+05</td>\n",
       "      <td>2.356322e+08</td>\n",
       "    </tr>\n",
       "  </tbody>\n",
       "</table>\n",
       "</div>"
      ],
      "text/plain": [
       "   SNo  Name Symbol                 Date       High        Low       Open  \\\n",
       "0    1  Aave   AAVE  2020-10-05 23:59:59  55.112358  49.787900  52.675035   \n",
       "1    2  Aave   AAVE  2020-10-06 23:59:59  53.402270  40.734578  53.291969   \n",
       "2    3  Aave   AAVE  2020-10-07 23:59:59  42.408314  35.970690  42.399947   \n",
       "3    4  Aave   AAVE  2020-10-08 23:59:59  44.902511  36.696057  39.885262   \n",
       "4    5  Aave   AAVE  2020-10-09 23:59:59  47.569533  43.291776  43.764463   \n",
       "\n",
       "       Close        Volume     Marketcap  \n",
       "0  53.219243  0.000000e+00  8.912813e+07  \n",
       "1  42.401599  5.830915e+05  7.101144e+07  \n",
       "2  40.083976  6.828342e+05  6.713004e+07  \n",
       "3  43.764463  1.658817e+06  2.202651e+08  \n",
       "4  46.817744  8.155377e+05  2.356322e+08  "
      ]
     },
     "execution_count": 4,
     "metadata": {},
     "output_type": "execute_result"
    }
   ],
   "source": [
    "# Explore the combined dataset\n",
    "combined_df.info()\n",
    "combined_df.describe()\n",
    "combined_df.head()"
   ]
  },
  {
   "cell_type": "code",
   "execution_count": 43,
   "id": "97578904-ceaa-44a2-b050-167774048240",
   "metadata": {},
   "outputs": [
    {
     "name": "stdout",
     "output_type": "stream",
     "text": [
      "        SNo  Name Symbol                 Date       High        Low  \\\n",
      "0         1  Aave   AAVE  2020-10-05 23:59:59  55.112358  49.787900   \n",
      "1         2  Aave   AAVE  2020-10-06 23:59:59  53.402270  40.734578   \n",
      "2         3  Aave   AAVE  2020-10-07 23:59:59  42.408314  35.970690   \n",
      "3         4  Aave   AAVE  2020-10-08 23:59:59  44.902511  36.696057   \n",
      "4         5  Aave   AAVE  2020-10-09 23:59:59  47.569533  43.291776   \n",
      "...     ...   ...    ...                  ...        ...        ...   \n",
      "37077  2889   XRP    XRP  2021-07-02 23:59:59   0.667287   0.634726   \n",
      "37078  2890   XRP    XRP  2021-07-03 23:59:59   0.683677   0.644653   \n",
      "37079  2891   XRP    XRP  2021-07-04 23:59:59   0.707783   0.665802   \n",
      "37080  2892   XRP    XRP  2021-07-05 23:59:59   0.695653   0.648492   \n",
      "37081  2893   XRP    XRP  2021-07-06 23:59:59   0.679923   0.652676   \n",
      "\n",
      "            Open      Close        Volume     Marketcap  \n",
      "0      52.675035  53.219243  0.000000e+00  8.912813e+07  \n",
      "1      53.291969  42.401599  5.830915e+05  7.101144e+07  \n",
      "2      42.399947  40.083976  6.828342e+05  6.713004e+07  \n",
      "3      39.885262  43.764463  1.658817e+06  2.202651e+08  \n",
      "4      43.764463  46.817744  8.155377e+05  2.356322e+08  \n",
      "...          ...        ...           ...           ...  \n",
      "37077   0.659890   0.656763  2.061607e+09  3.030759e+10  \n",
      "37078   0.655639   0.672888  1.872820e+09  3.105172e+10  \n",
      "37079   0.673218   0.694945  1.885242e+09  3.206960e+10  \n",
      "37080   0.695653   0.654300  2.076373e+09  3.019395e+10  \n",
      "37081   0.653055   0.665402  1.938959e+09  3.072284e+10  \n",
      "\n",
      "[37082 rows x 10 columns]\n"
     ]
    }
   ],
   "source": [
    "# Handle missing values by imputation or removal\n",
    "combined_df = combined_df.dropna()  # Example: Remove rows with missing values"
   ]
  },
  {
   "cell_type": "code",
   "execution_count": 49,
   "id": "ef8a6c6e-03e4-453b-9c96-3a9e77e9bc11",
   "metadata": {},
   "outputs": [],
   "source": [
    "# Select features and target\n",
    "features = ['High', 'Low', 'Open', 'Volume', 'Marketcap']\n",
    "target = 'Close'\n",
    "\n",
    "# Extract features and target\n",
    "X = combined_df[features]\n",
    "y = combined_df[target]\n",
    "\n",
    "# Normalize or scale the features\n",
    "scaler = StandardScaler()\n",
    "X_scaled = scaler.fit_transform(X)\n",
    "\n",
    "# Split the data into training and testing sets\n",
    "X_train, X_test, y_train, y_test = train_test_split(X_scaled, y, test_size=0.2, random_state=42)"
   ]
  },
  {
   "cell_type": "code",
   "execution_count": 33,
   "id": "e0d2948e-6f7e-4891-aba9-e47fc5dc2de1",
   "metadata": {},
   "outputs": [],
   "source": [
    "# Initialize models\n",
    "lr = LinearRegression()\n",
    "rf = RandomForestRegressor()\n",
    "svr = SVR()\n",
    "\n",
    "# Train models\n",
    "lr.fit(X_train, y_train)\n",
    "rf.fit(X_train, y_train)\n",
    "svr.fit(X_train, y_train)\n",
    "\n",
    "# Predict on test set\n",
    "lr_pred = lr.predict(X_test)\n",
    "rf_pred = rf.predict(X_test)\n",
    "svr_pred = svr.predict(X_test)"
   ]
  },
  {
   "cell_type": "code",
   "execution_count": 51,
   "id": "a1815566-0ba2-45fc-a132-1c21ba9f5349",
   "metadata": {},
   "outputs": [
    {
     "name": "stdout",
     "output_type": "stream",
     "text": [
      "Linear Regression MSE: 16033.782014291657\n",
      "Linear Regression R2: 0.9993675730745086\n",
      "Random Forest MSE: 12715.684780052983\n",
      "Random Forest R2: 0.9994984501208887\n",
      "SVR MSE: 23789237.37666393\n",
      "SVR R2: 0.06167152325650005\n"
     ]
    }
   ],
   "source": [
    "# Evaluate Linear Regression\n",
    "print('Linear Regression MSE:', mean_squared_error(y_test, lr_pred))\n",
    "print('Linear Regression R2:', r2_score(y_test, lr_pred))\n",
    "\n",
    "# Evaluate Random Forest Regressor\n",
    "print('Random Forest MSE:', mean_squared_error(y_test, rf_pred))\n",
    "print('Random Forest R2:', r2_score(y_test, rf_pred))\n",
    "\n",
    "# Evaluate SVR\n",
    "print('SVR MSE:', mean_squared_error(y_test, svr_pred))\n",
    "print('SVR R2:', r2_score(y_test, svr_pred))"
   ]
  },
  {
   "cell_type": "markdown",
   "id": "f809b478-5e35-4b3a-ae36-d57beef860a5",
   "metadata": {},
   "source": [
    "# Model Performance Comparison\r\n",
    "\r\n",
    "## Random Forest Model\r\n",
    "- **Mean Squared Error (MSE):** Lowest\r\n",
    "- **R-Squared (R2):** Highest\r\n",
    "\r\n",
    "The Random Forest model stands out as the best performing model among the three for this particular dataset. It excels in explaining more variance and maintains a lower average error when predicting cryptocurrency prices.\r\n",
    "\r\n",
    "## Support Vector Regression (SVR) Model\r\n",
    "- **Mean Squared Error (MSE):** Much higher\r\n",
    "- **R-Squared (R2):** Very low\r\n",
    "\r\n",
    "In contrast, the SVR model shows a poor performance compared to the other two models. Its significantly higher MSE and very low R2 score indicate that it is not well-suited for this dataset.\r\n",
    "\r\n",
    "## Conclusion\r\n",
    "Given the metrics provided, the **Random Forest model** is the superior choice for predicting cryptocurrency prices, outperforming the other models in terms of both MSE and R2.\r\n"
   ]
  },
  {
   "cell_type": "code",
   "execution_count": null,
   "id": "431d0be0-aca6-4c50-921a-48163fd8ea65",
   "metadata": {},
   "outputs": [],
   "source": []
  }
 ],
 "metadata": {
  "kernelspec": {
   "display_name": "Python 3",
   "language": "python",
   "name": "python3"
  },
  "language_info": {
   "codemirror_mode": {
    "name": "ipython",
    "version": 3
   },
   "file_extension": ".py",
   "mimetype": "text/x-python",
   "name": "python",
   "nbconvert_exporter": "python",
   "pygments_lexer": "ipython3",
   "version": "3.11.7"
  }
 },
 "nbformat": 4,
 "nbformat_minor": 5
}
